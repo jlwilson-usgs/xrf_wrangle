{
 "metadata": {
  "name": "",
  "signature": "sha256:da4a198523ae5ff45c750ea42f6c794490546ea54653d8473bd9485a0ae95de4"
 },
 "nbformat": 3,
 "nbformat_minor": 0,
 "worksheets": [
  {
   "cells": [
    {
     "cell_type": "markdown",
     "metadata": {},
     "source": [
      "#Tri-state Soil XRF Data Manipulation\n",
      "This Python Notebook contains the code used to compile the various XRF data from Tri-state and to manipulate it including averaging duplicate analyses on the same sample and visualization of the results. "
     ]
    },
    {
     "cell_type": "markdown",
     "metadata": {},
     "source": [
      "####Importing some required modules "
     ]
    },
    {
     "cell_type": "code",
     "collapsed": true,
     "input": [
      "import pandas as pd\n",
      "import numpy as np\n",
      "\n",
      "from xlrd import open_workbook as ow"
     ],
     "language": "python",
     "metadata": {},
     "outputs": [],
     "prompt_number": 1
    },
    {
     "cell_type": "markdown",
     "metadata": {},
     "source": [
      "####Shows the contents of the working directory"
     ]
    },
    {
     "cell_type": "code",
     "collapsed": true,
     "input": [
      "!ls "
     ],
     "language": "python",
     "metadata": {},
     "outputs": [
      {
       "output_type": "stream",
       "stream": "stdout",
       "text": [
        "Additional Core Data needs added to flood plain core data.xlsx\n",
        "Copy of Gravel Bar XRF Data From FWS Last nights work.xlsx\n",
        "Floodplain core raw data.xlsx\n",
        "Gravel Bar XRF Data From FWS.xlsx\n",
        "Tri-State XRF Manipulation.ipynb\n",
        "Tristate XRF Manipulation.ipynb\n",
        "Vibracore Scans before removal from coretube.xlsx\n",
        "Vibracore Scans of Bags.xlsx\n",
        "XRF Scan of Coarse Fraction.xlsx\n",
        "XRF scan of FloodPlain Lab Subsamples.xlsx\n",
        "XRF scan of Gravel Bar Lab Subsamples.xlsx\n",
        "desktop.ini\n"
       ]
      }
     ],
     "prompt_number": 2
    },
    {
     "cell_type": "markdown",
     "metadata": {},
     "source": [
      "####Importing the Excel File and 3rd Worksheet and Parsing"
     ]
    },
    {
     "cell_type": "code",
     "collapsed": true,
     "input": [
      "xrf = pd.ExcelFile(\"Barite_XRF_v1.xlsx\")\n",
      "xrfdf = xrf.parse(2)"
     ],
     "language": "python",
     "metadata": {},
     "outputs": []
    },
    {
     "cell_type": "markdown",
     "metadata": {},
     "source": [
      "####Creating dictionary of the LODs for the various elements. \n",
      "For elements without a LOD (e.g. Te), a LOD of -9 was assigned."
     ]
    },
    {
     "cell_type": "code",
     "collapsed": true,
     "input": [
      "lod={\"Ca\":500,\"Sc\":400,\"Ti\":160,\"V\":70,\"Cr\":85,\"Mn\":85,\"Fe\":100,\"Co\":260,\"Ni\":65,\"Cu\":35,\"Zn\":25,\"As\":11,\"Se\":20,\"Rb\":10,\"Sr\":11,\"Zr\":15,\n",
      "     \"Mo\":15,\"Ag\":10,\"Cd\":12,\"Sn\":30,\"Sb\":30,\"Ba\":100,\"Hg\":10,\"Pb\":13,\"Th\":20,\"U\":20, \"Au\":-9, \"W\":-9, \"Cs\":-9, \"Te\":-9,\"S\":-9,\"K\":-9}"
     ],
     "language": "python",
     "metadata": {},
     "outputs": []
    },
    {
     "cell_type": "markdown",
     "metadata": {},
     "source": [
      "####Replacing the \"< LOD\" with the LOD from the dictionary"
     ]
    },
    {
     "cell_type": "code",
     "collapsed": true,
     "input": [
      "xrfdf.fillna(-1, inplace=True)\n",
      "xrfdf[\"Ca\"]=xrfdf[\"Ca\"].replace(\"< LOD\", value=lod[\"Ca\"])\n",
      "xrfdf[\"Sc\"]=xrfdf[\"Sc\"].replace(\"< LOD\", value=lod[\"Sc\"])\n",
      "xrfdf[\"Ti\"]=xrfdf[\"Ti\"].replace(\"< LOD\", value=lod[\"Ti\"])\n",
      "xrfdf[\"V\"]=xrfdf[\"V\"].replace(\"< LOD\", value=lod[\"V\"])\n",
      "xrfdf[\"Cr\"]=xrfdf[\"Cr\"].replace(\"< LOD\", value=lod[\"Cr\"])\n",
      "xrfdf[\"Mn\"]=xrfdf[\"Mn\"].replace(\"< LOD\", value=lod[\"Mn\"])\n",
      "xrfdf[\"Fe\"]=xrfdf[\"Fe\"].replace(\"< LOD\", value=lod[\"Fe\"])\n",
      "xrfdf[\"Co\"]=xrfdf[\"Co\"].replace(\"< LOD\", value=lod[\"Co\"])\n",
      "xrfdf[\"Ni\"]=xrfdf[\"Ni\"].replace(\"< LOD\", value=lod[\"Ni\"])\n",
      "xrfdf[\"Cu\"]=xrfdf[\"Cu\"].replace(\"< LOD\", value=lod[\"Cu\"])\n",
      "xrfdf[\"Zn\"]=xrfdf[\"Zn\"].replace(\"< LOD\", value=lod[\"Zn\"])\n",
      "xrfdf[\"As\"]=xrfdf[\"As\"].replace(\"< LOD\", value=lod[\"As\"])\n",
      "xrfdf[\"Se\"]=xrfdf[\"Se\"].replace(\"< LOD\", value=lod[\"Se\"])\n",
      "xrfdf[\"Rb\"]=xrfdf[\"Rb\"].replace(\"< LOD\", value=lod[\"Rb\"])\n",
      "xrfdf[\"Sr\"]=xrfdf[\"Sr\"].replace(\"< LOD\", value=lod[\"Sr\"])\n",
      "xrfdf[\"Zr\"]=xrfdf[\"Zr\"].replace(\"< LOD\", value=lod[\"Zr\"])\n",
      "xrfdf[\"Mo\"]=xrfdf[\"Mo\"].replace(\"< LOD\", value=lod[\"Mo\"])\n",
      "xrfdf[\"Ag\"]=xrfdf[\"Ag\"].replace(\"< LOD\", value=lod[\"Ag\"])\n",
      "xrfdf[\"Cd\"]=xrfdf[\"Cd\"].replace(\"< LOD\", value=lod[\"Cd\"])\n",
      "xrfdf[\"Sn\"]=xrfdf[\"Sn\"].replace(\"< LOD\", value=lod[\"Sn\"])\n",
      "xrfdf[\"Sb\"]=xrfdf[\"Sb\"].replace(\"< LOD\", value=lod[\"Sb\"])\n",
      "xrfdf[\"Ba\"]=xrfdf[\"Ba\"].replace(\"< LOD\", value=lod[\"Ba\"])\n",
      "xrfdf[\"Hg\"]=xrfdf[\"Hg\"].replace(\"< LOD\", value=lod[\"Hg\"])\n",
      "xrfdf[\"Pb\"]=xrfdf[\"Pb\"].replace(\"< LOD\", value=lod[\"Pb\"])\n",
      "xrfdf[\"Th\"]=xrfdf[\"Th\"].replace(\"< LOD\", value=lod[\"Th\"])\n",
      "xrfdf[\"U\"]=xrfdf[\"U\"].replace(\"< LOD\", value=lod[\"U\"])\n",
      "xrfdf[\"Au\"]=xrfdf[\"Au\"].replace(\"< LOD\", value=lod[\"Au\"])\n",
      "xrfdf[\"W\"]=xrfdf[\"W\"].replace(\"< LOD\", value=lod[\"W\"])\n",
      "xrfdf[\"Te\"]=xrfdf[\"Te\"].replace(\"< LOD\", value=lod[\"Te\"])\n",
      "xrfdf[\"Cs\"]=xrfdf[\"Cs\"].replace(\"< LOD\", value=lod[\"Cs\"])\n",
      "xrfdf[\"S\"]=xrfdf[\"S\"].replace(\"< LOD\", value=lod[\"S\"])\n",
      "xrfdf[\"K\"]=xrfdf[\"K\"].replace(\"< LOD\", value=lod[\"K\"])\n",
      "\n",
      "xrfdf[['Pb']]=xrfdf[[\"Pb\"]].astype(float)\n",
      "xrfdf[[u'As']]=xrfdf[[\"As\"]].astype(float)\n",
      "xrfdf[[u'Mn']]=xrfdf[[\"Mn\"]].astype(float)\n",
      "xrfdf[[u'Fe']]=xrfdf[[\"Fe\"]].astype(float)\n",
      "xrfdf[[u'Co']]=xrfdf[[\"Co\"]].astype(float)\n",
      "xrfdf[[u'Ni']]=xrfdf[[\"Ni\"]].astype(float)\n",
      "xrfdf[[u'Cu']]=xrfdf[[\"Cu\"]].astype(float)\n",
      "xrfdf[[u'Zn']]=xrfdf[[\"Zn\"]].astype(float)\n",
      "xrfdf[[u'Se']]=xrfdf[[\"Se\"]].astype(float)\n",
      "xrfdf[[u'Rb']]=xrfdf[[\"Rb\"]].astype(float)\n",
      "xrfdf[[u'Sr']]=xrfdf[[\"Sr\"]].astype(float)\n",
      "xrfdf[[u'Zr']]=xrfdf[[\"Zr\"]].astype(float)\n",
      "xrfdf[[u'Mo']]=xrfdf[[\"Mo\"]].astype(float)\n",
      "xrfdf[[u'W']]=xrfdf[[\"W\"]].astype(float)\n",
      "xrfdf[[u'Au']]=xrfdf[[\"Au\"]].astype(float)\n",
      "xrfdf[[u'Hg']]=xrfdf[[\"Hg\"]].astype(float)\n",
      "xrfdf[[u'Th']]=xrfdf[[\"Th\"]].astype(float)\n",
      "xrfdf[[u'U']]=xrfdf[[\"U\"]].astype(float)\n",
      "xrfdf[[u'Cd']]=xrfdf[[\"Cd\"]].astype(float)\n",
      "xrfdf[[u'Ag']]=xrfdf[[\"Ag\"]].astype(float)\n",
      "xrfdf[[u'Cr']]=xrfdf[[\"Cr\"]].astype(float)\n",
      "xrfdf[[u'S']]=xrfdf[[\"S\"]].astype(float)\n",
      "xrfdf[[u'K']]=xrfdf[[\"K\"]].astype(float)\n",
      "xrfdf[[u'Ca']]=xrfdf[[\"Ca\"]].astype(float)\n",
      "xrfdf[[u'Sc']]=xrfdf[[\"Sc\"]].astype(float)\n",
      "xrfdf[[u'Ti']]=xrfdf[[\"Ti\"]].astype(float)\n",
      "xrfdf[[u'V']]=xrfdf[[\"V\"]].astype(float)\n",
      "xrfdf[[u'Pd']]=xrfdf[[\"Pb\"]].astype(float)\n",
      "xrfdf[[u'Sn']]=xrfdf[[\"Sn\"]].astype(float)\n",
      "xrfdf[[u'Sb']]=xrfdf[[\"Sb\"]].astype(float)\n",
      "xrfdf[[u'Te']]=xrfdf[[\"Te\"]].astype(float)\n",
      "xrfdf[[u'Cs']]=xrfdf[[\"Cs\"]].astype(float)\n",
      "xrfdf[[u'Ba']]=xrfdf[[\"Ba\"]].astype(float)\n",
      "xrfdf.dtypes"
     ],
     "language": "python",
     "metadata": {},
     "outputs": []
    },
    {
     "cell_type": "markdown",
     "metadata": {},
     "source": [
      "####Sorting the dataframe by Site, Date then Depth"
     ]
    },
    {
     "cell_type": "code",
     "collapsed": true,
     "input": [
      "site_group=xrfdf.groupby([\"Site \",\"date from log\",\"depth \"])"
     ],
     "language": "python",
     "metadata": {},
     "outputs": []
    },
    {
     "cell_type": "markdown",
     "metadata": {},
     "source": [
      "####Calculating the mean for each group (Site, Date, Depth combination)"
     ]
    },
    {
     "cell_type": "code",
     "collapsed": true,
     "input": [
      "xrf_means = site_group.mean()\n",
      "print xrf_means\n",
      "#xrf_means.to_excel(\"Xrf_means.xlsx\",\"Xrf_Means\")"
     ],
     "language": "python",
     "metadata": {},
     "outputs": []
    },
    {
     "cell_type": "markdown",
     "metadata": {},
     "source": [
      "####Creating a dataframe the first entry for each combination to append to the dataframe of means\n",
      "Text is excluded from xrf_means so to retain all non-numerical data, I took the first entry "
     ]
    },
    {
     "cell_type": "code",
     "collapsed": true,
     "input": [
      "xrf_firsts = site_group.first()\n",
      "#xrf_firsts.to_excel(\"Xrf_firsts.xlsx\",\"XRF_Firsts\")"
     ],
     "language": "python",
     "metadata": {},
     "outputs": []
    },
    {
     "cell_type": "markdown",
     "metadata": {},
     "source": [
      "####Splicing the required columns from each dataframe to combine into the final dataframe"
     ]
    },
    {
     "cell_type": "code",
     "collapsed": true,
     "input": [
      "xrf_left=xrf_firsts.ix[:,:20]\n",
      "xrf_right=xrf_means.ix[:,8:]"
     ],
     "language": "python",
     "metadata": {},
     "outputs": []
    },
    {
     "cell_type": "markdown",
     "metadata": {},
     "source": [
      "####Merging the two dataframes (means of chemicals and first entry of all text cells) into one final dataframe"
     ]
    },
    {
     "cell_type": "code",
     "collapsed": true,
     "input": [
      "xrf_combined=xrf_left.merge(xrf_right, left_index=True, right_index=True)\n",
      "xrf_combined.to_excel(\"Xrf_combined.xlsx\",\"XRF_Combined\")"
     ],
     "language": "python",
     "metadata": {},
     "outputs": []
    }
   ],
   "metadata": {}
  }
 ]
}