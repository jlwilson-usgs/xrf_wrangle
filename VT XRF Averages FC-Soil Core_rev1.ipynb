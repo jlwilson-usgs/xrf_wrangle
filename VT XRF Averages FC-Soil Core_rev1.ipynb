{
 "metadata": {
  "name": "",
  "signature": "sha256:37d5787b6575a7189fe1f387f112a225455463dd53187dea20d6aebb7849b6a6"
 },
 "nbformat": 3,
 "nbformat_minor": 0,
 "worksheets": [
  {
   "cells": [
    {
     "cell_type": "markdown",
     "metadata": {},
     "source": [
      "#Barite Soil XRF Data Comparison\n",
      "This IPython Notebook contains the code used to compile XRF data from the Viburnum Trend and to manipulate it including averaging duplicate XRF-gun scans on the same sample. A comparison is also made between the averaging in this code and the averaging done in excel. "
     ]
    },
    {
     "cell_type": "markdown",
     "metadata": {},
     "source": [
      "####Importing some required modules "
     ]
    },
    {
     "cell_type": "code",
     "collapsed": true,
     "input": [
      "import pandas as pd\n",
      "import numpy as np\n",
      "\n",
      "from xlrd import open_workbook as ow"
     ],
     "language": "python",
     "metadata": {},
     "outputs": [],
     "prompt_number": 141
    },
    {
     "cell_type": "markdown",
     "metadata": {},
     "source": [
      "####Importing the Excel Files"
     ]
    },
    {
     "cell_type": "code",
     "collapsed": true,
     "input": [
      "xrf = pd.ExcelFile(\"Raw Data.xlsx\") #Raw, unaveraged data send to Charlie from NFWS\n",
      "xrfdf = xrf.parse(0)\n",
      "\n",
      "xrfC = pd.ExcelFile(\"USFWS XRF,QAQC and Lab.xlsx\") #Data averaged by Charlie\n",
      "xrfdfC = xrfC.parse(2)"
     ],
     "language": "python",
     "metadata": {},
     "outputs": [],
     "prompt_number": 143
    },
    {
     "cell_type": "markdown",
     "metadata": {},
     "source": [
      "####Creating dictionary of the LODs for the various elements. \n",
      "For elements without a LOD (e.g. Te), a LOD of -9 was assigned."
     ]
    },
    {
     "cell_type": "code",
     "collapsed": true,
     "input": [
      "lod={\"Ca\":500,\"Sc\":400,\"Ti\":160,\"V\":70,\"Cr\":85,\"Mn\":85,\"Fe\":100,\"Co\":260,\"Ni\":65,\"Cu\":35,\"Zn\":25,\"As\":11,\"Se\":20,\"Rb\":10,\"Sr\":11,\"Zr\":15,\n",
      "     \"Mo\":15,\"Ag\":10,\"Cd\":12,\"Sn\":30,\"Sb\":30,\"Ba\":100,\"Hg\":10,\"Pb\":13,\"Th\":20,\"U\":20, \"Au\":-9, \"W\":-9, \"Cs\":-9, \"Te\":-9,\"S\":-9,\"K\":-9}"
     ],
     "language": "python",
     "metadata": {},
     "outputs": [],
     "prompt_number": 144
    },
    {
     "cell_type": "markdown",
     "metadata": {},
     "source": [
      "####Converting values less than LOD to the LOD\n",
      "The LOD values were collected from a PDF online for most of the metals. Some metals did not have LODs and were assigned a \"-9\" value. \n",
      "This was originally not done in the manual averaging in excel."
     ]
    },
    {
     "cell_type": "code",
     "collapsed": false,
     "input": [
      "#xrfdf.loc[xrfdf[\"Ca\"]<lod[\"Ca\"],\"Ca\"]=lod[\"Ca\"]\n",
      "#xrfdf.loc[xrfdf[\"Sc\"]<lod[\"Sc\"],\"Sc\"]=lod[\"Sc\"]\n",
      "#xrfdf.loc[xrfdf[\"Ti\"]<lod[\"Ti\"],\"Ti\"]=lod[\"Ti\"]\n",
      "#xrfdf.loc[xrfdf[\"V\"]<lod[\"V\"],\"V\"]=lod[\"V\"]\n",
      "#xrfdf.loc[xrfdf[\"Cr\"]<lod[\"Cr\"],\"Cr\"]=lod[\"Cr\"]\n",
      "xrfdf.loc[xrfdf[\"Mn\"]<lod[\"Mn\"],\"Mn\"]=lod[\"Mn\"]\n",
      "xrfdf.loc[xrfdf[\"Fe\"]<lod[\"Fe\"],\"Fe\"]=lod[\"Fe\"]\n",
      "xrfdf.loc[xrfdf[\"Co\"]<lod[\"Co\"],\"Co\"]=lod[\"Co\"]\n",
      "xrfdf.loc[xrfdf[\"Ni\"]<lod[\"Ni\"],\"Ni\"]=lod[\"Ni\"]\n",
      "xrfdf.loc[xrfdf[\"Cu\"]<lod[\"Cu\"],\"Cu\"]=lod[\"Cu\"]\n",
      "xrfdf.loc[xrfdf[\"Zn\"]<lod[\"Zn\"],\"Zn\"]=lod[\"Zn\"]\n",
      "xrfdf.loc[xrfdf[\"As\"]<lod[\"As\"],\"As\"]=lod[\"As\"]\n",
      "xrfdf.loc[xrfdf[\"Se\"]<lod[\"Se\"],\"Se\"]=lod[\"Se\"]\n",
      "xrfdf.loc[xrfdf[\"Rb\"]<lod[\"Rb\"],\"Rb\"]=lod[\"Rb\"]\n",
      "xrfdf.loc[xrfdf[\"Sr\"]<lod[\"Sr\"],\"Sr\"]=lod[\"Sr\"]\n",
      "xrfdf.loc[xrfdf[\"Zr\"]<lod[\"Zr\"],\"Zr\"]=lod[\"Zr\"]\n",
      "xrfdf.loc[xrfdf[\"Mo\"]<lod[\"Mo\"],\"Mo\"]=lod[\"Mo\"]\n",
      "xrfdf.loc[xrfdf[\"Ag\"]<lod[\"Ag\"],\"Ag\"]=lod[\"Ag\"]\n",
      "xrfdf.loc[xrfdf[\"Cd\"]<lod[\"Cd\"],\"Cd\"]=lod[\"Cd\"]\n",
      "xrfdf.loc[xrfdf[\"Sn\"]<lod[\"Sn\"],\"Sn\"]=lod[\"Sn\"]\n",
      "xrfdf.loc[xrfdf[\"Sb\"]<lod[\"Sb\"],\"Sb\"]=lod[\"Sb\"]\n",
      "xrfdf.loc[xrfdf[\"Ba\"]<lod[\"Ba\"],\"Ba\"]=lod[\"Ba\"]\n",
      "xrfdf.loc[xrfdf[\"Hg\"]<lod[\"Hg\"],\"Hg\"]=lod[\"Hg\"]\n",
      "xrfdf.loc[xrfdf[\"Pb\"]<lod[\"Pb\"],\"Pb\"]=lod[\"Pb\"]\n",
      "xrfdf.loc[xrfdf[\"Th\"]<lod[\"Th\"],\"Th\"]=lod[\"Th\"]\n",
      "xrfdf.loc[xrfdf[\"U\"]<lod[\"U\"],\"U\"]=lod[\"U\"]\n",
      "xrfdf.loc[xrfdf[\"Au\"]<lod[\"Au\"],\"Au\"]=lod[\"Au\"]\n",
      "xrfdf.loc[xrfdf[\"W\"]<lod[\"W\"],\"W\"]=lod[\"W\"]\n",
      "xrfdf.loc[xrfdf[\"Te\"]<lod[\"Te\"],\"Te\"]=lod[\"Te\"]\n",
      "xrfdf.loc[xrfdf[\"Cs\"]<lod[\"Cs\"],\"Cs\"]=lod[\"Cs\"]\n",
      "#xrfdf.loc[xrfdf[\"S\"]<lod[\"S\"],\"S\"]=lod[\"S\"]\n",
      "#xrfdf.loc[xrfdf[\"K\"]<lod[\"K\"],\"K\"]=lod[\"K\"]"
     ],
     "language": "python",
     "metadata": {},
     "outputs": [],
     "prompt_number": 145
    },
    {
     "cell_type": "markdown",
     "metadata": {},
     "source": [
      "####Replacing the \"< LOD\" with the LOD from the dictionary"
     ]
    },
    {
     "cell_type": "code",
     "collapsed": false,
     "input": [
      "xrfdf.fillna(-1, inplace=True)\n",
      "#xrfdf[\"Ca\"]=xrfdf[\"Ca\"].replace(\"< LOD\", value=lod[\"Ca\"])\n",
      "#xrfdf[\"Sc\"]=xrfdf[\"Sc\"].replace(\"< LOD\", value=lod[\"Sc\"])\n",
      "#xrfdf[\"Ti\"]=xrfdf[\"Ti\"].replace(\"< LOD\", value=lod[\"Ti\"])\n",
      "#xrfdf[\"V\"]=xrfdf[\"V\"].replace(\"< LOD\", value=lod[\"V\"])\n",
      "#xrfdf[\"Cr\"]=xrfdf[\"Cr\"].replace(\"< LOD\", value=lod[\"Cr\"])\n",
      "xrfdf[\"Mn\"]=xrfdf[\"Mn\"].replace(\"< LOD\", value=lod[\"Mn\"])\n",
      "xrfdf[\"Fe\"]=xrfdf[\"Fe\"].replace(\"< LOD\", value=lod[\"Fe\"])\n",
      "xrfdf[\"Co\"]=xrfdf[\"Co\"].replace(\"< LOD\", value=lod[\"Co\"])\n",
      "xrfdf[\"Ni\"]=xrfdf[\"Ni\"].replace(\"< LOD\", value=lod[\"Ni\"])\n",
      "xrfdf[\"Cu\"]=xrfdf[\"Cu\"].replace(\"< LOD\", value=lod[\"Cu\"])\n",
      "xrfdf[\"Zn\"]=xrfdf[\"Zn\"].replace(\"< LOD\", value=lod[\"Zn\"])\n",
      "xrfdf[\"As\"]=xrfdf[\"As\"].replace(\"< LOD\", value=lod[\"As\"])\n",
      "xrfdf[\"Se\"]=xrfdf[\"Se\"].replace(\"< LOD\", value=lod[\"Se\"])\n",
      "xrfdf[\"Rb\"]=xrfdf[\"Rb\"].replace(\"< LOD\", value=lod[\"Rb\"])\n",
      "xrfdf[\"Sr\"]=xrfdf[\"Sr\"].replace(\"< LOD\", value=lod[\"Sr\"])\n",
      "xrfdf[\"Zr\"]=xrfdf[\"Zr\"].replace(\"< LOD\", value=lod[\"Zr\"])\n",
      "xrfdf[\"Mo\"]=xrfdf[\"Mo\"].replace(\"< LOD\", value=lod[\"Mo\"])\n",
      "xrfdf[\"Ag\"]=xrfdf[\"Ag\"].replace(\"< LOD\", value=lod[\"Ag\"])\n",
      "xrfdf[\"Cd\"]=xrfdf[\"Cd\"].replace(\"< LOD\", value=lod[\"Cd\"])\n",
      "xrfdf[\"Sn\"]=xrfdf[\"Sn\"].replace(\"< LOD\", value=lod[\"Sn\"])\n",
      "xrfdf[\"Sb\"]=xrfdf[\"Sb\"].replace(\"< LOD\", value=lod[\"Sb\"])\n",
      "xrfdf[\"Ba\"]=xrfdf[\"Ba\"].replace(\"< LOD\", value=lod[\"Ba\"])\n",
      "xrfdf[\"Hg\"]=xrfdf[\"Hg\"].replace(\"< LOD\", value=lod[\"Hg\"])\n",
      "xrfdf[\"Pb\"]=xrfdf[\"Pb\"].replace(\"< LOD\", value=lod[\"Pb\"])\n",
      "xrfdf[\"Th\"]=xrfdf[\"Th\"].replace(\"< LOD\", value=lod[\"Th\"])\n",
      "xrfdf[\"U\"]=xrfdf[\"U\"].replace(\"< LOD\", value=lod[\"U\"])\n",
      "xrfdf[\"Au\"]=xrfdf[\"Au\"].replace(\"< LOD\", value=lod[\"Au\"])\n",
      "xrfdf[\"W\"]=xrfdf[\"W\"].replace(\"< LOD\", value=lod[\"W\"])\n",
      "xrfdf[\"Te\"]=xrfdf[\"Te\"].replace(\"< LOD\", value=lod[\"Te\"])\n",
      "xrfdf[\"Cs\"]=xrfdf[\"Cs\"].replace(\"< LOD\", value=lod[\"Cs\"])\n",
      "#xrfdf[\"S\"]=xrfdf[\"S\"].replace(\"< LOD\", value=lod[\"S\"])\n",
      "#xrfdf[\"K\"]=xrfdf[\"K\"].replace(\"< LOD\", value=lod[\"K\"])"
     ],
     "language": "python",
     "metadata": {},
     "outputs": []
    },
    {
     "cell_type": "markdown",
     "metadata": {},
     "source": [
      "####Converting the data type of the metals to floats so that they can be averaged "
     ]
    },
    {
     "cell_type": "code",
     "collapsed": false,
     "input": [
      "xrfdf[['Pb']]=xrfdf[[\"Pb\"]].astype(float)\n",
      "xrfdf[[u'As']]=xrfdf[[\"As\"]].astype(float)\n",
      "xrfdf[[u'Mn']]=xrfdf[[\"Mn\"]].astype(float)\n",
      "xrfdf[[u'Fe']]=xrfdf[[\"Fe\"]].astype(float)\n",
      "xrfdf[[u'Co']]=xrfdf[[\"Co\"]].astype(float)\n",
      "xrfdf[[u'Ni']]=xrfdf[[\"Ni\"]].astype(float)\n",
      "xrfdf[[u'Cu']]=xrfdf[[\"Cu\"]].astype(float)\n",
      "xrfdf[[u'Zn']]=xrfdf[[\"Zn\"]].astype(float)\n",
      "xrfdf[[u'Se']]=xrfdf[[\"Se\"]].astype(float)\n",
      "xrfdf[[u'Rb']]=xrfdf[[\"Rb\"]].astype(float)\n",
      "xrfdf[[u'Sr']]=xrfdf[[\"Sr\"]].astype(float)\n",
      "xrfdf[[u'Zr']]=xrfdf[[\"Zr\"]].astype(float)\n",
      "xrfdf[[u'Mo']]=xrfdf[[\"Mo\"]].astype(float)\n",
      "xrfdf[[u'W']]=xrfdf[[\"W\"]].astype(float)\n",
      "xrfdf[[u'Au']]=xrfdf[[\"Au\"]].astype(float)\n",
      "xrfdf[[u'Hg']]=xrfdf[[\"Hg\"]].astype(float)\n",
      "xrfdf[[u'Th']]=xrfdf[[\"Th\"]].astype(float)\n",
      "xrfdf[[u'U']]=xrfdf[[\"U\"]].astype(float)\n",
      "xrfdf[[u'Cd']]=xrfdf[[\"Cd\"]].astype(float)\n",
      "xrfdf[[u'Ag']]=xrfdf[[\"Ag\"]].astype(float)\n",
      "#xrfdf[[u'Cr']]=xrfdf[[\"Cr\"]].astype(float)\n",
      "#xrfdf[[u'S']]=xrfdf[[\"S\"]].astype(float)\n",
      "#xrfdf[[u'K']]=xrfdf[[\"K\"]].astype(float)\n",
      "#xrfdf[[u'Ca']]=xrfdf[[\"Ca\"]].astype(float)\n",
      "#xrfdf[[u'Sc']]=xrfdf[[\"Sc\"]].astype(float)\n",
      "#xrfdf[[u'Ti']]=xrfdf[[\"Ti\"]].astype(float)\n",
      "#xrfdf[[u'V']]=xrfdf[[\"V\"]].astype(float)\n",
      "xrfdf[[u'Pd']]=xrfdf[[\"Pb\"]].astype(float)\n",
      "xrfdf[[u'Sn']]=xrfdf[[\"Sn\"]].astype(float)\n",
      "xrfdf[[u'Sb']]=xrfdf[[\"Sb\"]].astype(float)\n",
      "xrfdf[[u'Te']]=xrfdf[[\"Te\"]].astype(float)\n",
      "xrfdf[[u'Cs']]=xrfdf[[\"Cs\"]].astype(float)\n",
      "xrfdf[[u'Ba']]=xrfdf[[\"Ba\"]].astype(float)"
     ],
     "language": "python",
     "metadata": {},
     "outputs": []
    },
    {
     "cell_type": "markdown",
     "metadata": {},
     "source": [
      "####Creating a Site Column only for the sites where freeze coring was conducted"
     ]
    },
    {
     "cell_type": "code",
     "collapsed": true,
     "input": [
      "xrfdf_ID = xrfdf[\"Sample_ID\"].str[:2]\n",
      "\n",
      "xrfdf[\"Site\"]=xrfdf[\"Sample_ID\"].str[:2]\n",
      "\n",
      "for i in np.arange(0,xrfdf.shape[0]):\n",
      "    if xrfdf_ID[i] == \"BC\":\n",
      "        xrfdf.iat[i,-1] = \"Bill's Creek\"\n",
      "    if xrfdf_ID[i] == \"ST\":\n",
      "        xrfdf.iat[i,-1] = \"Strother's Creek\"\n",
      "    if xrfdf_ID[i] == \"SW\":\n",
      "        xrfdf.iat[i,-1] = \"Sweetwater Creek\"\n",
      "    if xrfdf_ID[i] == \"IC\":\n",
      "        xrfdf.iat[i,-1] = \"Indian Creek\"\n",
      "    if xrfdf_ID[i] == \"LC\":\n",
      "        xrfdf.iat[i,-1] = \"Logan Creek\"\n",
      "    if xrfdf_ID[i] == \"WF\":\n",
      "        xrfdf.iat[i,-1] = \"West Fork Black River\"\n",
      "    i+=1"
     ],
     "language": "python",
     "metadata": {},
     "outputs": [],
     "prompt_number": 146
    },
    {
     "cell_type": "markdown",
     "metadata": {},
     "source": [
      "####Grouping the dataframe by Site, Date then Depth"
     ]
    },
    {
     "cell_type": "code",
     "collapsed": true,
     "input": [
      "site_group=xrfdf.groupby([\"Site\",\"Sample_ID\",\"Particle_Size\",\"Sample_Depth\"])"
     ],
     "language": "python",
     "metadata": {},
     "outputs": [],
     "prompt_number": 147
    },
    {
     "cell_type": "markdown",
     "metadata": {},
     "source": [
      "####Calculating the mean for each group (Site, Date, Depth combination)"
     ]
    },
    {
     "cell_type": "code",
     "collapsed": true,
     "input": [
      "xrf_means = site_group.mean()\n",
      "#print xrf_means\n",
      "xrf_means.to_excel(\"Xrf_means.xlsx\",\"Xrf_Means\")"
     ],
     "language": "python",
     "metadata": {},
     "outputs": [],
     "prompt_number": 148
    },
    {
     "cell_type": "markdown",
     "metadata": {},
     "source": [
      "####Creating a dataframe the first entry for each combination to append to the dataframe of means\n",
      "Text is excluded from xrf_means so to retain all non-numerical data, I took the first entry "
     ]
    },
    {
     "cell_type": "code",
     "collapsed": true,
     "input": [
      "xrf_firsts = site_group.first()\n",
      "#print xrf_firsts\n",
      "xrf_firsts.to_excel(\"Xrf_firsts.xlsx\",\"XRF_Firsts\")"
     ],
     "language": "python",
     "metadata": {},
     "outputs": [],
     "prompt_number": 149
    },
    {
     "cell_type": "markdown",
     "metadata": {},
     "source": [
      "####Splicing the required columns from each dataframe to combine into the final dataframe\n",
      "The functions below need to be changed depending on where the numerical data and text data are"
     ]
    },
    {
     "cell_type": "code",
     "collapsed": true,
     "input": [
      "xrf_left=xrf_firsts.ix[:,:20]\n",
      "xrf_right=xrf_means.ix[:,10:]"
     ],
     "language": "python",
     "metadata": {},
     "outputs": [],
     "prompt_number": 150
    },
    {
     "cell_type": "markdown",
     "metadata": {},
     "source": [
      "####Merging the two dataframes (means of chemicals and first entry of all text cells) into one final dataframe"
     ]
    },
    {
     "cell_type": "code",
     "collapsed": true,
     "input": [
      "xrf_combined=xrf_left.merge(xrf_right, left_index=True, right_index=True)\n",
      "xrf_combined.to_excel(\"Xrf_combined.xlsx\",\"XRF_Combined\")"
     ],
     "language": "python",
     "metadata": {},
     "outputs": [],
     "prompt_number": 151
    },
    {
     "cell_type": "markdown",
     "metadata": {},
     "source": [
      "#Summary Statistics"
     ]
    },
    {
     "cell_type": "markdown",
     "metadata": {},
     "source": [
      "####Creating the site name"
     ]
    },
    {
     "cell_type": "code",
     "collapsed": false,
     "input": [
      "xrfdf_ID = xrfdf[\"Sample_ID\"].str[:2]\n",
      "\n",
      "xrfdf[\"Site\"]=xrfdf[\"Sample_ID\"].str[:2]"
     ],
     "language": "python",
     "metadata": {},
     "outputs": [],
     "prompt_number": 152
    },
    {
     "cell_type": "markdown",
     "metadata": {},
     "source": [
      "####Building the summary statistics dataframe"
     ]
    },
    {
     "cell_type": "code",
     "collapsed": false,
     "input": [
      "xrf_stats = xrfdf.groupby(['Sediment/Residuum','Site']).agg([\"mean\",\"count\",\"min\",\"median\",\"max\"])"
     ],
     "language": "python",
     "metadata": {},
     "outputs": [],
     "prompt_number": 153
    },
    {
     "cell_type": "markdown",
     "metadata": {},
     "source": [
      "####Creating a Unique ID"
     ]
    },
    {
     "cell_type": "code",
     "collapsed": false,
     "input": [
      "xrfdf[\"Unique_ID\"]=xrfdf[\"Sample_ID\"] +\"_\" +xrfdf[\"Sample_Depth\"]"
     ],
     "language": "python",
     "metadata": {},
     "outputs": [],
     "prompt_number": 154
    },
    {
     "cell_type": "markdown",
     "metadata": {},
     "source": [
      "####Moving the Unique ID column from the last column to the first"
     ]
    },
    {
     "cell_type": "code",
     "collapsed": false,
     "input": [
      "cols = list(xrfdf)\n",
      "cols.insert(0, cols.pop(cols.index('Site')))\n",
      "xrfdf = xrfdf.ix[:, cols]"
     ],
     "language": "python",
     "metadata": {},
     "outputs": [],
     "prompt_number": 155
    },
    {
     "cell_type": "markdown",
     "metadata": {},
     "source": [
      "####Merging the means and first occurances of the text columns into one dataframe"
     ]
    },
    {
     "cell_type": "code",
     "collapsed": false,
     "input": [
      "xrfmeans = xrfdf.groupby(\"Unique_ID\").mean()\n",
      "xrffirsts = xrfdf.groupby(\"Unique_ID\").first()\n",
      "\n",
      "xrf_left=xrffirsts.ix[:,:23]\n",
      "xrf_right=xrfmeans.ix[:,10:]\n",
      "\n",
      "xrf_combined2=xrf_left.merge(xrf_right, left_index=True, right_index=True)"
     ],
     "language": "python",
     "metadata": {},
     "outputs": [],
     "prompt_number": 156
    },
    {
     "cell_type": "markdown",
     "metadata": {},
     "source": [
      "####Reformating the dataframe with sample counts "
     ]
    },
    {
     "cell_type": "code",
     "collapsed": false,
     "input": [
      "xrf_counts =xrf_combined2.groupby(['Sediment/Residuum','Site']).agg([\"count\"])"
     ],
     "language": "python",
     "metadata": {},
     "outputs": [],
     "prompt_number": 157
    },
    {
     "cell_type": "markdown",
     "metadata": {},
     "source": [
      "####Moving the sample counts to the summary statistics dataframe"
     ]
    },
    {
     "cell_type": "code",
     "collapsed": false,
     "input": [
      "xrf_stats[\"Pb\",\"count\"] = xrf_counts[\"Pb\",\"count\"]\n",
      "xrf_stats[\"U\",\"count\"] = xrf_counts[\"U\",\"count\"]\n",
      "xrf_stats[\"As\",\"count\"] = xrf_counts[\"As\",\"count\"]\n",
      "xrf_stats[\"Mn\",\"count\"] = xrf_counts[\"Mn\",\"count\"]\n",
      "xrf_stats[\"Fe\",\"count\"] = xrf_counts[\"Fe\",\"count\"]\n",
      "xrf_stats[\"Co\",\"count\"] = xrf_counts[\"Co\",\"count\"]\n",
      "xrf_stats[\"Ni\",\"count\"] = xrf_counts[\"Ni\",\"count\"]\n",
      "xrf_stats[\"Cu\",\"count\"] = xrf_counts[\"Cu\",\"count\"]\n",
      "xrf_stats[\"Zn\",\"count\"] = xrf_counts[\"Zn\",\"count\"]\n",
      "xrf_stats[\"Se\",\"count\"] = xrf_counts[\"Se\",\"count\"]\n",
      "xrf_stats[\"Rb\",\"count\"] = xrf_counts[\"Rb\",\"count\"]\n",
      "xrf_stats[\"Sr\",\"count\"] = xrf_counts[\"Sr\",\"count\"]\n",
      "xrf_stats[\"Zr\",\"count\"] = xrf_counts[\"Zr\",\"count\"]\n",
      "xrf_stats[\"Mo\",\"count\"] = xrf_counts[\"Mo\",\"count\"]\n",
      "xrf_stats[\"W\",\"count\"] = xrf_counts[\"W\",\"count\"]\n",
      "xrf_stats[\"Au\",\"count\"] = xrf_counts[\"Au\",\"count\"]\n",
      "xrf_stats[\"Hg\",\"count\"] = xrf_counts[\"Hg\",\"count\"]\n",
      "xrf_stats[\"Th\",\"count\"] = xrf_counts[\"Th\",\"count\"]\n",
      "xrf_stats[\"Cd\",\"count\"] = xrf_counts[\"Cd\",\"count\"]\n",
      "xrf_stats[\"Ag\",\"count\"] = xrf_counts[\"Ag\",\"count\"]\n",
      "xrf_stats[\"Cr\",\"count\"] = xrf_counts[\"Cr\",\"count\"]\n",
      "xrf_stats[\"S\",\"count\"] = xrf_counts[\"S\",\"count\"]\n",
      "xrf_stats[\"K\",\"count\"] = xrf_counts[\"K\",\"count\"]\n",
      "xrf_stats[\"Ca\",\"count\"] = xrf_counts[\"Ca\",\"count\"]\n",
      "xrf_stats[\"Sc\",\"count\"] = xrf_counts[\"Sc\",\"count\"]\n",
      "xrf_stats[\"Ti\",\"count\"] = xrf_counts[\"Ti\",\"count\"]\n",
      "xrf_stats[\"V\",\"count\"] = xrf_counts[\"V\",\"count\"]\n",
      "xrf_stats[\"Pd\",\"count\"] = xrf_counts[\"Pd\",\"count\"]\n",
      "xrf_stats[\"Sn\",\"count\"] = xrf_counts[\"Sn\",\"count\"]\n",
      "xrf_stats[\"Sb\",\"count\"] = xrf_counts[\"Sb\",\"count\"]\n",
      "xrf_stats[\"Te\",\"count\"] = xrf_counts[\"Te\",\"count\"]\n",
      "xrf_stats[\"Cs\",\"count\"] = xrf_counts[\"Cs\",\"count\"]\n",
      "xrf_stats[\"Ba\",\"count\"] = xrf_counts[\"Ba\",\"count\"]"
     ],
     "language": "python",
     "metadata": {},
     "outputs": [],
     "prompt_number": 158
    },
    {
     "cell_type": "markdown",
     "metadata": {},
     "source": [
      "####Transposing the summary dataframe and narrowing the rows to constituents"
     ]
    },
    {
     "cell_type": "code",
     "collapsed": false,
     "input": [
      "xrf_stats_t=xrf_stats.transpose()\n",
      "xrf_sum_stats = xrf_stats_t[50:]"
     ],
     "language": "python",
     "metadata": {},
     "outputs": [],
     "prompt_number": 159
    },
    {
     "cell_type": "markdown",
     "metadata": {},
     "source": [
      "####Exporting the summary statistics dataframe to excel"
     ]
    },
    {
     "cell_type": "code",
     "collapsed": false,
     "input": [
      "xrf_sum_stats.to_excel(\"xrf_stats_final.xlsx\")"
     ],
     "language": "python",
     "metadata": {},
     "outputs": [],
     "prompt_number": 160
    }
   ],
   "metadata": {}
  }
 ]
}