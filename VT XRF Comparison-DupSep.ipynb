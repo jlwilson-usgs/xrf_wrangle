{
 "metadata": {
  "name": "",
  "signature": "sha256:d4721e4b188cc0067005e70a01bec189e4269fd068134c465f3011413e896e25"
 },
 "nbformat": 3,
 "nbformat_minor": 0,
 "worksheets": [
  {
   "cells": [
    {
     "cell_type": "markdown",
     "metadata": {},
     "source": [
      "#VT Soil XRF Data Comparison\n",
      "This IPython Notebook contains the code used to compile XRF data from Viburnum Trend and to compare the averages calculated in python with those manually acalculated in excel.  "
     ]
    },
    {
     "cell_type": "markdown",
     "metadata": {},
     "source": [
      "####Importing some required modules "
     ]
    },
    {
     "cell_type": "code",
     "collapsed": true,
     "input": [
      "import pandas as pd\n",
      "import numpy as np\n",
      "\n",
      "from xlrd import open_workbook as ow"
     ],
     "language": "python",
     "metadata": {},
     "outputs": [],
     "prompt_number": 43
    },
    {
     "cell_type": "markdown",
     "metadata": {},
     "source": [
      "####Importing the Excel File and 3rd Worksheet and Parsing"
     ]
    },
    {
     "cell_type": "code",
     "collapsed": true,
     "input": [
      "xrf = pd.ExcelFile(\"Xrf_VT.xlsx\")\n",
      "xrfdf = xrf.parse(2)\n",
      "\n",
      "xrfC = pd.ExcelFile(\"USFWS XRF,QAQC and Lab.xlsx\")\n",
      "xrfdfC = xrfC.parse(0)\n",
      "\n",
      "#xrfdf.sort()\n",
      "#xrfdfC.sort()"
     ],
     "language": "python",
     "metadata": {},
     "outputs": [],
     "prompt_number": 45
    },
    {
     "cell_type": "markdown",
     "metadata": {},
     "source": [
      "####Removing the text ending in the Sample_Depth column"
     ]
    },
    {
     "cell_type": "code",
     "collapsed": false,
     "input": [
      "#xrfdf[\"Unique_ID\"]=pd.tools.merge.concat(xrfdf[\"Sample_ID\"],\"_\",xrfdf[\"Sample_Depth\"])\n",
      "xrfdf[\"Unique_ID\"]=xrfdf[\"Sample_ID\"] +\"_\" +xrfdf[\"Sample_Depth\"]\n",
      "\n",
      "xrfdf[\"Unique_ID\"] = xrfdf[\"Unique_ID\"].str.strip(\"ft\")\n",
      "xrfdf[\"Unique_ID\"] = xrfdf[\"Unique_ID\"].str.strip(\"ft \")\n",
      "xrfdf[\"Unique_ID\"] = xrfdf[\"Unique_ID\"].str.strip(\"ft core barrel\")\n",
      "# xrfdf[\"Unique_ID\"] = xrfdf[\"Unique_ID\"].str.replace(\"5-6ft core barrel\",\"5-6\")\n",
      "# xrfdf[\"Unique_ID\"] = xrfdf[\"Unique_ID\"].str.replace(\"11-11.8ft core barrel\",\"11-11.8\")\n",
      "# xrfdf[\"Unique_ID\"] = xrfdf[\"Unique_ID\"].str.replace(\"6-7ft core barrel\",\"6-7\")\n",
      "# xrfdf[\"Unique_ID\"] = xrfdf[\"Unique_ID\"].str.replace(\"6-6.2ft core barrel\",\"6-6.2\")\n"
     ],
     "language": "python",
     "metadata": {},
     "outputs": [],
     "prompt_number": 73
    },
    {
     "cell_type": "markdown",
     "metadata": {},
     "source": [
      "####Creating dictionary of the LODs for the various elements. \n",
      "For elements without a LOD (e.g. Te), a LOD of -9 was assigned."
     ]
    },
    {
     "cell_type": "code",
     "collapsed": true,
     "input": [
      "lod={\"Ca\":500,\"Sc\":400,\"Ti\":160,\"V\":70,\"Cr\":85,\"Mn\":85,\"Fe\":100,\"Co\":260,\"Ni\":65,\"Cu\":35,\"Zn\":25,\"As\":11,\"Se\":20,\"Rb\":10,\"Sr\":11,\"Zr\":15,\n",
      "     \"Mo\":15,\"Ag\":10,\"Cd\":12,\"Sn\":30,\"Sb\":30,\"Ba\":100,\"Hg\":10,\"Pb\":13,\"Th\":20,\"U\":20, \"Au\":-9, \"W\":-9, \"Cs\":-9, \"Te\":-9,\"S\":-9,\"K\":-9}"
     ],
     "language": "python",
     "metadata": {},
     "outputs": [],
     "prompt_number": 74
    },
    {
     "cell_type": "markdown",
     "metadata": {},
     "source": [
      "####Converting values less than LOD to the LOD"
     ]
    },
    {
     "cell_type": "code",
     "collapsed": false,
     "input": [
      "#xrfdf.loc[xrfdf[\"Ca\"]<lod[\"Ca\"],\"Ca\"]=lod[\"Ca\"]\n",
      "#xrfdf.loc[xrfdf[\"Sc\"]<lod[\"Sc\"],\"Sc\"]=lod[\"Sc\"]\n",
      "#xrfdf.loc[xrfdf[\"Ti\"]<lod[\"Ti\"],\"Ti\"]=lod[\"Ti\"]\n",
      "#xrfdf.loc[xrfdf[\"V\"]<lod[\"V\"],\"V\"]=lod[\"V\"]\n",
      "#xrfdf.loc[xrfdf[\"Cr\"]<lod[\"Cr\"],\"Cr\"]=lod[\"Cr\"]\n",
      "xrfdf.loc[xrfdf[\"Mn\"]<lod[\"Mn\"],\"Mn\"]=lod[\"Mn\"]\n",
      "xrfdf.loc[xrfdf[\"Fe\"]<lod[\"Fe\"],\"Fe\"]=lod[\"Fe\"]\n",
      "xrfdf.loc[xrfdf[\"Co\"]<lod[\"Co\"],\"Co\"]=lod[\"Co\"]\n",
      "xrfdf.loc[xrfdf[\"Ni\"]<lod[\"Ni\"],\"Ni\"]=lod[\"Ni\"]\n",
      "xrfdf.loc[xrfdf[\"Cu\"]<lod[\"Cu\"],\"Cu\"]=lod[\"Cu\"]\n",
      "xrfdf.loc[xrfdf[\"Zn\"]<lod[\"Zn\"],\"Zn\"]=lod[\"Zn\"]\n",
      "xrfdf.loc[xrfdf[\"As\"]<lod[\"As\"],\"As\"]=lod[\"As\"]\n",
      "xrfdf.loc[xrfdf[\"Se\"]<lod[\"Se\"],\"Se\"]=lod[\"Se\"]\n",
      "xrfdf.loc[xrfdf[\"Rb\"]<lod[\"Rb\"],\"Rb\"]=lod[\"Rb\"]\n",
      "xrfdf.loc[xrfdf[\"Sr\"]<lod[\"Sr\"],\"Sr\"]=lod[\"Sr\"]\n",
      "xrfdf.loc[xrfdf[\"Zr\"]<lod[\"Zr\"],\"Zr\"]=lod[\"Zr\"]\n",
      "xrfdf.loc[xrfdf[\"Mo\"]<lod[\"Mo\"],\"Mo\"]=lod[\"Mo\"]\n",
      "xrfdf.loc[xrfdf[\"Ag\"]<lod[\"Ag\"],\"Ag\"]=lod[\"Ag\"]\n",
      "xrfdf.loc[xrfdf[\"Cd\"]<lod[\"Cd\"],\"Cd\"]=lod[\"Cd\"]\n",
      "xrfdf.loc[xrfdf[\"Sn\"]<lod[\"Sn\"],\"Sn\"]=lod[\"Sn\"]\n",
      "xrfdf.loc[xrfdf[\"Sb\"]<lod[\"Sb\"],\"Sb\"]=lod[\"Sb\"]\n",
      "xrfdf.loc[xrfdf[\"Ba\"]<lod[\"Ba\"],\"Ba\"]=lod[\"Ba\"]\n",
      "xrfdf.loc[xrfdf[\"Hg\"]<lod[\"Hg\"],\"Hg\"]=lod[\"Hg\"]\n",
      "xrfdf.loc[xrfdf[\"Pb\"]<lod[\"Pb\"],\"Pb\"]=lod[\"Pb\"]\n",
      "xrfdf.loc[xrfdf[\"Th\"]<lod[\"Th\"],\"Th\"]=lod[\"Th\"]\n",
      "xrfdf.loc[xrfdf[\"U\"]<lod[\"U\"],\"U\"]=lod[\"U\"]\n",
      "xrfdf.loc[xrfdf[\"Au\"]<lod[\"Au\"],\"Au\"]=lod[\"Au\"]\n",
      "xrfdf.loc[xrfdf[\"W\"]<lod[\"W\"],\"W\"]=lod[\"W\"]\n",
      "xrfdf.loc[xrfdf[\"Te\"]<lod[\"Te\"],\"Te\"]=lod[\"Te\"]\n",
      "xrfdf.loc[xrfdf[\"Cs\"]<lod[\"Cs\"],\"Cs\"]=lod[\"Cs\"]\n",
      "#xrfdf.loc[xrfdf[\"S\"]<lod[\"S\"],\"S\"]=lod[\"S\"]\n",
      "#xrfdf.loc[xrfdf[\"K\"]<lod[\"K\"],\"K\"]=lod[\"K\"]"
     ],
     "language": "python",
     "metadata": {},
     "outputs": [],
     "prompt_number": 75
    },
    {
     "cell_type": "markdown",
     "metadata": {},
     "source": [
      "####Replacing the \"< LOD\" with the LOD from the dictionary"
     ]
    },
    {
     "cell_type": "code",
     "collapsed": false,
     "input": [
      "xrfdf.fillna(-1, inplace=True)\n",
      "#xrfdf[\"Ca\"]=xrfdf[\"Ca\"].replace(\"< LOD\", value=lod[\"Ca\"])\n",
      "#xrfdf[\"Sc\"]=xrfdf[\"Sc\"].replace(\"< LOD\", value=lod[\"Sc\"])\n",
      "#xrfdf[\"Ti\"]=xrfdf[\"Ti\"].replace(\"< LOD\", value=lod[\"Ti\"])\n",
      "#xrfdf[\"V\"]=xrfdf[\"V\"].replace(\"< LOD\", value=lod[\"V\"])\n",
      "#xrfdf[\"Cr\"]=xrfdf[\"Cr\"].replace(\"< LOD\", value=lod[\"Cr\"])\n",
      "xrfdf[\"Mn\"]=xrfdf[\"Mn\"].replace(\"< LOD\", value=lod[\"Mn\"])\n",
      "xrfdf[\"Fe\"]=xrfdf[\"Fe\"].replace(\"< LOD\", value=lod[\"Fe\"])\n",
      "xrfdf[\"Co\"]=xrfdf[\"Co\"].replace(\"< LOD\", value=lod[\"Co\"])\n",
      "xrfdf[\"Ni\"]=xrfdf[\"Ni\"].replace(\"< LOD\", value=lod[\"Ni\"])\n",
      "xrfdf[\"Cu\"]=xrfdf[\"Cu\"].replace(\"< LOD\", value=lod[\"Cu\"])\n",
      "xrfdf[\"Zn\"]=xrfdf[\"Zn\"].replace(\"< LOD\", value=lod[\"Zn\"])\n",
      "xrfdf[\"As\"]=xrfdf[\"As\"].replace(\"< LOD\", value=lod[\"As\"])\n",
      "xrfdf[\"Se\"]=xrfdf[\"Se\"].replace(\"< LOD\", value=lod[\"Se\"])\n",
      "xrfdf[\"Rb\"]=xrfdf[\"Rb\"].replace(\"< LOD\", value=lod[\"Rb\"])\n",
      "xrfdf[\"Sr\"]=xrfdf[\"Sr\"].replace(\"< LOD\", value=lod[\"Sr\"])\n",
      "xrfdf[\"Zr\"]=xrfdf[\"Zr\"].replace(\"< LOD\", value=lod[\"Zr\"])\n",
      "xrfdf[\"Mo\"]=xrfdf[\"Mo\"].replace(\"< LOD\", value=lod[\"Mo\"])\n",
      "xrfdf[\"Ag\"]=xrfdf[\"Ag\"].replace(\"< LOD\", value=lod[\"Ag\"])\n",
      "xrfdf[\"Cd\"]=xrfdf[\"Cd\"].replace(\"< LOD\", value=lod[\"Cd\"])\n",
      "xrfdf[\"Sn\"]=xrfdf[\"Sn\"].replace(\"< LOD\", value=lod[\"Sn\"])\n",
      "xrfdf[\"Sb\"]=xrfdf[\"Sb\"].replace(\"< LOD\", value=lod[\"Sb\"])\n",
      "xrfdf[\"Ba\"]=xrfdf[\"Ba\"].replace(\"< LOD\", value=lod[\"Ba\"])\n",
      "xrfdf[\"Hg\"]=xrfdf[\"Hg\"].replace(\"< LOD\", value=lod[\"Hg\"])\n",
      "xrfdf[\"Pb\"]=xrfdf[\"Pb\"].replace(\"< LOD\", value=lod[\"Pb\"])\n",
      "xrfdf[\"Th\"]=xrfdf[\"Th\"].replace(\"< LOD\", value=lod[\"Th\"])\n",
      "xrfdf[\"U\"]=xrfdf[\"U\"].replace(\"< LOD\", value=lod[\"U\"])\n",
      "xrfdf[\"Au\"]=xrfdf[\"Au\"].replace(\"< LOD\", value=lod[\"Au\"])\n",
      "xrfdf[\"W\"]=xrfdf[\"W\"].replace(\"< LOD\", value=lod[\"W\"])\n",
      "xrfdf[\"Te\"]=xrfdf[\"Te\"].replace(\"< LOD\", value=lod[\"Te\"])\n",
      "xrfdf[\"Cs\"]=xrfdf[\"Cs\"].replace(\"< LOD\", value=lod[\"Cs\"])\n",
      "#xrfdf[\"S\"]=xrfdf[\"S\"].replace(\"< LOD\", value=lod[\"S\"])\n",
      "#xrfdf[\"K\"]=xrfdf[\"K\"].replace(\"< LOD\", value=lod[\"K\"])"
     ],
     "language": "python",
     "metadata": {},
     "outputs": []
    },
    {
     "cell_type": "markdown",
     "metadata": {},
     "source": [
      "####Converting the metal concentrations to floats so they can be averaged"
     ]
    },
    {
     "cell_type": "code",
     "collapsed": true,
     "input": [
      "xrfdf[['Pb']]=xrfdf[[\"Pb\"]].astype(float)\n",
      "xrfdf[[u'As']]=xrfdf[[\"As\"]].astype(float)\n",
      "xrfdf[[u'Mn']]=xrfdf[[\"Mn\"]].astype(float)\n",
      "xrfdf[[u'Fe']]=xrfdf[[\"Fe\"]].astype(float)\n",
      "xrfdf[[u'Co']]=xrfdf[[\"Co\"]].astype(float)\n",
      "xrfdf[[u'Ni']]=xrfdf[[\"Ni\"]].astype(float)\n",
      "xrfdf[[u'Cu']]=xrfdf[[\"Cu\"]].astype(float)\n",
      "xrfdf[[u'Zn']]=xrfdf[[\"Zn\"]].astype(float)\n",
      "xrfdf[[u'Se']]=xrfdf[[\"Se\"]].astype(float)\n",
      "xrfdf[[u'Rb']]=xrfdf[[\"Rb\"]].astype(float)\n",
      "xrfdf[[u'Sr']]=xrfdf[[\"Sr\"]].astype(float)\n",
      "xrfdf[[u'Zr']]=xrfdf[[\"Zr\"]].astype(float)\n",
      "xrfdf[[u'Mo']]=xrfdf[[\"Mo\"]].astype(float)\n",
      "xrfdf[[u'W']]=xrfdf[[\"W\"]].astype(float)\n",
      "xrfdf[[u'Au']]=xrfdf[[\"Au\"]].astype(float)\n",
      "xrfdf[[u'Hg']]=xrfdf[[\"Hg\"]].astype(float)\n",
      "xrfdf[[u'Th']]=xrfdf[[\"Th\"]].astype(float)\n",
      "xrfdf[[u'U']]=xrfdf[[\"U\"]].astype(float)\n",
      "xrfdf[[u'Cd']]=xrfdf[[\"Cd\"]].astype(float)\n",
      "xrfdf[[u'Ag']]=xrfdf[[\"Ag\"]].astype(float)\n",
      "#xrfdf[[u'Cr']]=xrfdf[[\"Cr\"]].astype(float)\n",
      "#xrfdf[[u'S']]=xrfdf[[\"S\"]].astype(float)\n",
      "#xrfdf[[u'K']]=xrfdf[[\"K\"]].astype(float)\n",
      "#xrfdf[[u'Ca']]=xrfdf[[\"Ca\"]].astype(float)\n",
      "#xrfdf[[u'Sc']]=xrfdf[[\"Sc\"]].astype(float)\n",
      "#xrfdf[[u'Ti']]=xrfdf[[\"Ti\"]].astype(float)\n",
      "#xrfdf[[u'V']]=xrfdf[[\"V\"]].astype(float)\n",
      "xrfdf[[u'Pd']]=xrfdf[[\"Pb\"]].astype(float)\n",
      "xrfdf[[u'Sn']]=xrfdf[[\"Sn\"]].astype(float)\n",
      "xrfdf[[u'Sb']]=xrfdf[[\"Sb\"]].astype(float)\n",
      "xrfdf[[u'Te']]=xrfdf[[\"Te\"]].astype(float)\n",
      "xrfdf[[u'Cs']]=xrfdf[[\"Cs\"]].astype(float)\n",
      "xrfdf[[u'Ba']]=xrfdf[[\"Ba\"]].astype(float)\n",
      "#xrfdf.dtypes"
     ],
     "language": "python",
     "metadata": {},
     "outputs": [],
     "prompt_number": 76
    },
    {
     "cell_type": "markdown",
     "metadata": {},
     "source": [
      "####Calculating the mean for each group (Site, Date, Depth combination)"
     ]
    },
    {
     "cell_type": "code",
     "collapsed": false,
     "input": [
      "site_groupC=xrfdfC.groupby([\"Sample ID\"])\n",
      "xrfC_means = site_groupC.mean()\n",
      "xrfC_means.to_excel(\"XrfC_means.xlsx\",\"Xrf_Means\")\n",
      "\n",
      "site_group1=xrfdf.groupby([\"Unique_ID\"])\n",
      "xrf1_means = site_group1.mean()\n",
      "xrf1_means.to_excel(\"Xrf1_means.xlsx\",\"Xrf_Means\")"
     ],
     "language": "python",
     "metadata": {},
     "outputs": [],
     "prompt_number": 77
    },
    {
     "cell_type": "markdown",
     "metadata": {},
     "source": [
      "####Merging the python-calculated abverages with the excel-calculated averages for comparison"
     ]
    },
    {
     "cell_type": "code",
     "collapsed": false,
     "input": [
      "xrf_comp_combined=xrf1_means.merge(xrfC_means,how=\"right\", left_index=True, right_index=True)\n",
      "xrf_comp_combined.to_excel(\"Xrf_comp_combined.xlsx\",\"Xrf_Means\")"
     ],
     "language": "python",
     "metadata": {},
     "outputs": [],
     "prompt_number": 78
    },
    {
     "cell_type": "markdown",
     "metadata": {},
     "source": [
      "####Calculating the differences between the two types of averages"
     ]
    },
    {
     "cell_type": "code",
     "collapsed": false,
     "input": [
      "xrf_comp_combined[\"Ba_diff\"] = xrf_comp_combined[\"Ba_x\"]-xrf_comp_combined[\"Ba_y\"]\n",
      "xrf_comp_combined[\"Pb_diff\"] = xrf_comp_combined[\"Pb_x\"]-xrf_comp_combined[\"Pb_y\"]\n",
      "xrf_comp_combined[\"Zn_diff\"] = xrf_comp_combined[\"Zn_x\"]-xrf_comp_combined[\"Zn_y\"]\n",
      "xrf_comp_combined[\"Cd_diff\"] = xrf_comp_combined[\"Cd_x\"]-xrf_comp_combined[\"Cd_y\"]\n",
      "xrf_comp_combined[\"Fe_diff\"] = xrf_comp_combined[\"Fe_x\"]-xrf_comp_combined[\"Fe_y\"]\n",
      "xrf_comp_combined[\"As_diff\"] = xrf_comp_combined[\"As_x\"]-xrf_comp_combined[\"As_y\"]\n",
      "xrf_comp_combined[\"Ag_diff\"] = xrf_comp_combined[\"Ag_x\"]-xrf_comp_combined[\"Ag_y\"]\n",
      "xrf_comp_combined[\"Ni_diff\"] = xrf_comp_combined[\"Ni_x\"]-xrf_comp_combined[\"Ni_y\"]\n",
      "#xrf_comp_combined[\"Au_diff\"] = xrf_comp_combined[\"Au_x\"]-xrf_comp_combined[\"Ba_y\"]\n",
      "xrf_comp_combined[\"Mn_diff\"] = xrf_comp_combined[\"Mn_x\"]-xrf_comp_combined[\"Mn_y\"]\n",
      "xrf_comp_combined[\"Co_diff\"] = xrf_comp_combined[\"Co_x\"]-xrf_comp_combined[\"Co_y\"]\n",
      "xrf_comp_combined[\"Cu_diff\"] = xrf_comp_combined[\"Cu_x\"]-xrf_comp_combined[\"Cu_y\"]\n",
      "xrf_comp_combined[\"Se_diff\"] = xrf_comp_combined[\"Se_x\"]-xrf_comp_combined[\"Se_y\"]\n",
      "xrf_comp_combined[\"Rb_diff\"] = xrf_comp_combined[\"Rb_x\"]-xrf_comp_combined[\"Rb_y\"]\n",
      "xrf_comp_combined[\"Sr_diff\"] = xrf_comp_combined[\"Sr_x\"]-xrf_comp_combined[\"Sr_y\"]\n",
      "#xrf_comp_combined[\"Zr_diff\"] = xrf_comp_combined[\"Zr_x\"]-xrf_comp_combined[\"Ba_y\"]\n",
      "xrf_comp_combined[\"Mo_diff\"] = xrf_comp_combined[\"Mo_x\"]-xrf_comp_combined[\"Mo_y\"]\n",
      "#xrf_comp_combined[\"Pd_diff\"] = xrf_comp_combined[\"Pd_x\"]-xrf_comp_combined[\"Ba_y\"]\n",
      "xrf_comp_combined[\"Sn_diff\"] = xrf_comp_combined[\"Sn_x\"]-xrf_comp_combined[\"Sn_y\"]\n",
      "xrf_comp_combined[\"Sb_diff\"] = xrf_comp_combined[\"Sb_x\"]-xrf_comp_combined[\"Sb_y\"]\n",
      "#xrf_comp_combined[\"Te_diff\"] = xrf_comp_combined[\"Te_x\"]-xrf_comp_combined[\"Ba_y\"]\n",
      "#xrf_comp_combined[\"Cs_diff\"] = xrf_comp_combined[\"Cs_x\"]-xrf_comp_combined[\"Ba_y\"]\n",
      "#xrf_comp_combined[\"W_diff\"] = xrf_comp_combined[\"W_x\"]-xrf_comp_combined[\"W_y\"]\n",
      "xrf_comp_combined[\"Hg_diff\"] = xrf_comp_combined[\"Hg_x\"]-xrf_comp_combined[\"Hg_y\"]\n",
      "xrf_comp_combined[\"Th_diff\"] = xrf_comp_combined[\"Th_x\"]-xrf_comp_combined[\"Th_y\"]\n",
      "xrf_comp_combined[\"U_diff\"] = xrf_comp_combined[\"U_x\"]-xrf_comp_combined[\"U_y\"]\n"
     ],
     "language": "python",
     "metadata": {},
     "outputs": [],
     "prompt_number": 79
    },
    {
     "cell_type": "markdown",
     "metadata": {},
     "source": [
      "####Exporting the results into an excel file"
     ]
    },
    {
     "cell_type": "code",
     "collapsed": false,
     "input": [
      "xrf_comp_combined.to_excel(\"Xrf_comp_combined.xlsx\",\"Xrf_Means\")"
     ],
     "language": "python",
     "metadata": {},
     "outputs": [],
     "prompt_number": 80
    }
   ],
   "metadata": {}
  }
 ]
}